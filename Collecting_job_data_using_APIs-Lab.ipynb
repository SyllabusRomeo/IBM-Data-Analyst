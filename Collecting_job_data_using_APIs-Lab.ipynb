{
    "cells": [
        {
            "metadata": {},
            "cell_type": "markdown",
            "source": "<center>\n    <img src=\"https://gitlab.com/ibm/skills-network/courses/placeholder101/-/raw/master/labs/module%201/images/IDSNlogo.png\" width=\"300\" alt=\"cognitiveclass.ai logo\"  />\n</center>\n"
        },
        {
            "metadata": {},
            "cell_type": "markdown",
            "source": "# **Collecting Job Data Using APIs**\n"
        },
        {
            "metadata": {},
            "cell_type": "markdown",
            "source": "Estimated time needed: **45 to 60** minutes\n"
        },
        {
            "metadata": {},
            "cell_type": "markdown",
            "source": "## Objectives\n"
        },
        {
            "metadata": {},
            "cell_type": "markdown",
            "source": "After completing this lab, you will be able to:\n"
        },
        {
            "metadata": {},
            "cell_type": "markdown",
            "source": "-   Collect job data from GitHub Jobs API\n-   Store the collected data into an excel spreadsheet. \n"
        },
        {
            "metadata": {},
            "cell_type": "markdown",
            "source": "## Warm-Up Exercise\n"
        },
        {
            "metadata": {},
            "cell_type": "markdown",
            "source": "Before you attempt the actual lab, here is a fully solved warmup exercise that will help you to learn how to access an API.\n"
        },
        {
            "metadata": {},
            "cell_type": "markdown",
            "source": "Using an API, let us find out who currently are on the International Space Station (ISS).<br> The API at [http://api.open-notify.org/astros.json](http://api.open-notify.org/astros.json?cm_mmc=Email_Newsletter-_-Developer_Ed%2BTech-_-WW_WW-_-SkillsNetwork-Courses-IBM-DA0321EN-SkillsNetwork-21426264&cm_mmca1=000026UJ&cm_mmca2=10006555&cm_mmca3=M12345678&cvosrc=email.Newsletter.M12345678&cvo_campaign=000026UJ&cm_mmc=Email_Newsletter-_-Developer_Ed%2BTech-_-WW_WW-_-SkillsNetwork-Courses-IBM-DA0321EN-SkillsNetwork-21426264&cm_mmca1=000026UJ&cm_mmca2=10006555&cm_mmca3=M12345678&cvosrc=email.Newsletter.M12345678&cvo_campaign=000026UJ&cm_mmc=Email_Newsletter-_-Developer_Ed%2BTech-_-WW_WW-_-SkillsNetwork-Courses-IBM-DA0321EN-SkillsNetwork-21426264&cm_mmca1=000026UJ&cm_mmca2=10006555&cm_mmca3=M12345678&cvosrc=email.Newsletter.M12345678&cvo_campaign=000026UJ&cm_mmc=Email_Newsletter-_-Developer_Ed%2BTech-_-WW_WW-_-SkillsNetwork-Courses-IBM-DA0321EN-SkillsNetwork-21426264&cm_mmca1=000026UJ&cm_mmca2=10006555&cm_mmca3=M12345678&cvosrc=email.Newsletter.M12345678&cvo_campaign=000026UJ&cm_mmc=Email_Newsletter-_-Developer_Ed%2BTech-_-WW_WW-_-SkillsNetwork-Courses-IBM-DA0321EN-SkillsNetwork-21426264&cm_mmca1=000026UJ&cm_mmca2=10006555&cm_mmca3=M12345678&cvosrc=email.Newsletter.M12345678&cvo_campaign=000026UJ&cm_mmc=Email_Newsletter-_-Developer_Ed%2BTech-_-WW_WW-_-SkillsNetwork-Courses-IBM-DA0321EN-SkillsNetwork-21426264&cm_mmca1=000026UJ&cm_mmca2=10006555&cm_mmca3=M12345678&cvosrc=email.Newsletter.M12345678&cvo_campaign=000026UJ&cm_mmc=Email_Newsletter-_-Developer_Ed%2BTech-_-WW_WW-_-SkillsNetwork-Courses-IBM-DA0321EN-SkillsNetwork-21426264&cm_mmca1=000026UJ&cm_mmca2=10006555&cm_mmca3=M12345678&cvosrc=email.Newsletter.M12345678&cvo_campaign=000026UJ&cm_mmc=Email_Newsletter-_-Developer_Ed%2BTech-_-WW_WW-_-SkillsNetwork-Courses-IBM-DA0321EN-SkillsNetwork-21426264&cm_mmca1=000026UJ&cm_mmca2=10006555&cm_mmca3=M12345678&cvosrc=email.Newsletter.M12345678&cvo_campaign=000026UJ) gives us the information of astronauts currently on ISS in json format.<br>\nYou can read more about this API at [http://open-notify.org/Open-Notify-API/People-In-Space/](http://open-notify.org/Open-Notify-API/People-In-Space?cm_mmc=Email_Newsletter-_-Developer_Ed%2BTech-_-WW_WW-_-SkillsNetwork-Courses-IBM-DA0321EN-SkillsNetwork-21426264&cm_mmca1=000026UJ&cm_mmca2=10006555&cm_mmca3=M12345678&cvosrc=email.Newsletter.M12345678&cvo_campaign=000026UJ&cm_mmc=Email_Newsletter-_-Developer_Ed%2BTech-_-WW_WW-_-SkillsNetwork-Courses-IBM-DA0321EN-SkillsNetwork-21426264&cm_mmca1=000026UJ&cm_mmca2=10006555&cm_mmca3=M12345678&cvosrc=email.Newsletter.M12345678&cvo_campaign=000026UJ&cm_mmc=Email_Newsletter-_-Developer_Ed%2BTech-_-WW_WW-_-SkillsNetwork-Courses-IBM-DA0321EN-SkillsNetwork-21426264&cm_mmca1=000026UJ&cm_mmca2=10006555&cm_mmca3=M12345678&cvosrc=email.Newsletter.M12345678&cvo_campaign=000026UJ&cm_mmc=Email_Newsletter-_-Developer_Ed%2BTech-_-WW_WW-_-SkillsNetwork-Courses-IBM-DA0321EN-SkillsNetwork-21426264&cm_mmca1=000026UJ&cm_mmca2=10006555&cm_mmca3=M12345678&cvosrc=email.Newsletter.M12345678&cvo_campaign=000026UJ&cm_mmc=Email_Newsletter-_-Developer_Ed%2BTech-_-WW_WW-_-SkillsNetwork-Courses-IBM-DA0321EN-SkillsNetwork-21426264&cm_mmca1=000026UJ&cm_mmca2=10006555&cm_mmca3=M12345678&cvosrc=email.Newsletter.M12345678&cvo_campaign=000026UJ&cm_mmc=Email_Newsletter-_-Developer_Ed%2BTech-_-WW_WW-_-SkillsNetwork-Courses-IBM-DA0321EN-SkillsNetwork-21426264&cm_mmca1=000026UJ&cm_mmca2=10006555&cm_mmca3=M12345678&cvosrc=email.Newsletter.M12345678&cvo_campaign=000026UJ&cm_mmc=Email_Newsletter-_-Developer_Ed%2BTech-_-WW_WW-_-SkillsNetwork-Courses-IBM-DA0321EN-SkillsNetwork-21426264&cm_mmca1=000026UJ&cm_mmca2=10006555&cm_mmca3=M12345678&cvosrc=email.Newsletter.M12345678&cvo_campaign=000026UJ&cm_mmc=Email_Newsletter-_-Developer_Ed%2BTech-_-WW_WW-_-SkillsNetwork-Courses-IBM-DA0321EN-SkillsNetwork-21426264&cm_mmca1=000026UJ&cm_mmca2=10006555&cm_mmca3=M12345678&cvosrc=email.Newsletter.M12345678&cvo_campaign=000026UJ)\n"
        },
        {
            "metadata": {},
            "cell_type": "code",
            "source": "import requests # you need this module to make an API call",
            "execution_count": 1,
            "outputs": []
        },
        {
            "metadata": {},
            "cell_type": "code",
            "source": "api_url = \"http://api.open-notify.org/astros.json\" # this url gives use the astronaut data",
            "execution_count": 2,
            "outputs": []
        },
        {
            "metadata": {},
            "cell_type": "code",
            "source": "response = requests.get(api_url) # Call the API using the get method and store the\n                                # output of the API call in a variable called response.",
            "execution_count": 3,
            "outputs": []
        },
        {
            "metadata": {},
            "cell_type": "code",
            "source": "if response.ok:             # if all is well() no errors, no network timeouts)\n    data = response.json()  # store the result in json format in a variable called data\n                            # the variable data is of type dictionary.",
            "execution_count": 4,
            "outputs": []
        },
        {
            "metadata": {},
            "cell_type": "code",
            "source": "print(data)   # print the data just to check the output or for debugging",
            "execution_count": 5,
            "outputs": [
                {
                    "name": "stdout",
                    "output_type": "stream",
                    "text": "{'number': 7, 'message': 'success', 'people': [{'name': 'Mark Vande Hei', 'craft': 'ISS'}, {'name': 'Oleg Novitskiy', 'craft': 'ISS'}, {'name': 'Pyotr Dubrov', 'craft': 'ISS'}, {'name': 'Thomas Pesquet', 'craft': 'ISS'}, {'name': 'Megan McArthur', 'craft': 'ISS'}, {'name': 'Shane Kimbrough', 'craft': 'ISS'}, {'name': 'Akihiko Hoshide', 'craft': 'ISS'}]}\n"
                }
            ]
        },
        {
            "metadata": {},
            "cell_type": "markdown",
            "source": "Print the number of astronauts currently on ISS.\n"
        },
        {
            "metadata": {},
            "cell_type": "code",
            "source": "print(data.get('number'))",
            "execution_count": 6,
            "outputs": [
                {
                    "output_type": "stream",
                    "text": "7\n",
                    "name": "stdout"
                }
            ]
        },
        {
            "metadata": {},
            "cell_type": "markdown",
            "source": "Print the names of the astronauts currently on ISS.\n"
        },
        {
            "metadata": {},
            "cell_type": "code",
            "source": "astronauts = data.get('people')\nprint(\"There are {} astronauts on ISS\".format(len(astronauts)))\nprint(\"And their names are :\")\nfor astronaut in astronauts:\n    print(astronaut.get('name'))",
            "execution_count": 7,
            "outputs": [
                {
                    "output_type": "stream",
                    "text": "There are 7 astronauts on ISS\nAnd their names are :\nMark Vande Hei\nOleg Novitskiy\nPyotr Dubrov\nThomas Pesquet\nMegan McArthur\nShane Kimbrough\nAkihiko Hoshide\n",
                    "name": "stdout"
                }
            ]
        },
        {
            "metadata": {},
            "cell_type": "markdown",
            "source": "Hope the warmup was helpful. Good luck with your next lab!\n"
        },
        {
            "metadata": {},
            "cell_type": "markdown",
            "source": "## Lab: Collect Jobs Data using GitHub Jobs API\n"
        },
        {
            "metadata": {},
            "cell_type": "markdown",
            "source": "Before you start doing this lab, get familier with the GitHub Jobs API.<br>\nThe documentation for the GitHub Jobs API can be found at <https://jobs.github.com/api><br>\n\n<li>Understand what urls to use.<br>\n<li>Understand what parameters have to be passed.<br>\n<li>Understand the format of the output data.</li>\n"
        },
        {
            "metadata": {},
            "cell_type": "markdown",
            "source": "### Objective: Determine the number of jobs currently open for various technologies\n"
        },
        {
            "metadata": {},
            "cell_type": "markdown",
            "source": "Collect the number of job postings for the following languages using the API:\n\n-   C\n-   C#\n-   C++\n-   Java\n-   JavaScript\n-   Python\n-   Scala\n-   Oracle\n-   SQL Server\n-   MySQL Server\n-   PostgreSQL\n-   MongoDB\n"
        },
        {
            "metadata": {},
            "cell_type": "code",
            "source": "#Import required libraries\nimport requests\nimport os\nfrom PIL import Image\nfrom IPython.display import IFrame\nimport requests\nimport json",
            "execution_count": 10,
            "outputs": []
        },
        {
            "metadata": {},
            "cell_type": "code",
            "source": "baseurl = \"https://jobs.github.com/positions.json\"",
            "execution_count": 11,
            "outputs": []
        },
        {
            "metadata": {},
            "cell_type": "markdown",
            "source": "Write a function to get the number of jobs for the given technology.<br>\n_Note:_ The API gives a maximum of 50 jobs per page.<br>\nIf you get 50 jobs per page, it means there could be some more job listings available.<br>\nSo if you get 50 jobs per page you should make another API call for next page to check for more jobs.<br>\nIf you get less than 50 jobs per page, you can take it as the final count.<br>\n"
        },
        {
            "metadata": {},
            "cell_type": "code",
            "source": "response = requests.get(baseurl)",
            "execution_count": 12,
            "outputs": []
        },
        {
            "metadata": {},
            "cell_type": "code",
            "source": "data = response.json()",
            "execution_count": 39,
            "outputs": []
        },
        {
            "metadata": {},
            "cell_type": "code",
            "source": "# def get_number_of_jobs(technology):\n#     number_of_jobs = 0\n#     page = 1\n#     #your code goes here\n#     while True:\n#         payload = {\"description\":technology,\"page\":page}\n#         r = requests.get(url=baseurl,params=payload)\n#         if r.ok:\n#             data = r.json()\n#         number_of_jobs = len(data)\n#         if number_of_jobs >= 50:\n#             page += 1\n#             continue\n#         else:\n#             break         \n#     return technology,number_of_jobs\n\ndef get_number_of_jobs(technology):\n    number_of_jobs = 0\n    #your code goes here\n    for i in range(len(data)):\n        desc = data[i]['description']\n        if technology in desc or technology.lower() in desc or technology.title() in desc or technology.upper() in desc:\n            print(i, data[i]['company'])\n            number_of_jobs += 1\n    return technology,number_of_jobs\n",
            "execution_count": 14,
            "outputs": []
        },
        {
            "metadata": {},
            "cell_type": "markdown",
            "source": "Call the function for Python and check if it is working.\n"
        },
        {
            "metadata": {},
            "cell_type": "code",
            "source": "get_number_of_jobs('java')",
            "execution_count": 15,
            "outputs": [
                {
                    "output_type": "stream",
                    "text": "0 SweetRush\n3 MANDARIN MEDIEN Gesellschaft f\u00fcr digitale L\u00f6sungen mbH\n4 Car Registration, Inc. \n7 JobRad GmbH\n9 DEVK Versicherungen\n12 Amco International Education Services\n13 Crawford, Murphy and Tilly, Inc.\n18 W Energy Software\n21 Buxton\n22 Remote\n24 Kolter Solutions\n25 My Cosmetic Surgery\n26 Encoding Management Service - EMS GmbH\n30 anynines GmbH\n",
                    "name": "stdout"
                },
                {
                    "output_type": "execute_result",
                    "execution_count": 15,
                    "data": {
                        "text/plain": "('java', 14)"
                    },
                    "metadata": {}
                }
            ]
        },
        {
            "metadata": {},
            "cell_type": "code",
            "source": "get_number_of_jobs('python')",
            "execution_count": 17,
            "outputs": [
                {
                    "output_type": "stream",
                    "text": "4 Car Registration, Inc. \n8 Blindside\n14 Demyst \n15 Bertrandt Technikum GmbH Ehningen\n17 Bertrandt Technikum GmbH Ehningen \n19 expertlead\n",
                    "name": "stdout"
                },
                {
                    "output_type": "execute_result",
                    "execution_count": 17,
                    "data": {
                        "text/plain": "('python', 6)"
                    },
                    "metadata": {}
                }
            ]
        },
        {
            "metadata": {},
            "cell_type": "markdown",
            "source": "### Store the results in an excel file\n"
        },
        {
            "metadata": {},
            "cell_type": "markdown",
            "source": "Call the API for all the given technologies above and write the results in an excel spreadsheet.\n"
        },
        {
            "metadata": {},
            "cell_type": "markdown",
            "source": "If you do not know how create excel file using python, double click here for **hints**.\n\n<!--\n\nfrom openpyxl import Workbook        # import Workbook class from module openpyxl\nwb=Workbook()                        # create a workbook object\nws=wb.active                         # use the active worksheet\nws.append(['Country','Continent'])   # add a row with two columns 'Country' and 'Continent'\nws.append(['Eygpt','Africa'])        # add a row with two columns 'Egypt' and 'Africa'\nws.append(['India','Asia'])          # add another row\nws.append(['France','Europe'])       # add another row\nwb.save(\"countries.xlsx\")            # save the workbook into a file called countries.xlsx\n\n\n-->\n"
        },
        {
            "metadata": {},
            "cell_type": "markdown",
            "source": "Create a python list of all technologies for which you need to find the number of jobs postings.\n"
        },
        {
            "metadata": {},
            "cell_type": "code",
            "source": "#your code goes here\ntech_list = ['C','C#','C++','Java', 'JavaScript','Python','Scala','Oracle','SQL Server','MySQL Server','PostgreSQL','MongoDB']",
            "execution_count": 18,
            "outputs": []
        },
        {
            "metadata": {},
            "cell_type": "markdown",
            "source": "Import libraries required to create excel spreadsheet\n"
        },
        {
            "metadata": {},
            "cell_type": "code",
            "source": "!pip install openpyxl",
            "execution_count": 20,
            "outputs": [
                {
                    "output_type": "stream",
                    "text": "/opt/conda/envs/Python-3.7-main/lib/python3.7/site-packages/secretstorage/dhcrypto.py:16: CryptographyDeprecationWarning: int_from_bytes is deprecated, use int.from_bytes instead\n  from cryptography.utils import int_from_bytes\n/opt/conda/envs/Python-3.7-main/lib/python3.7/site-packages/secretstorage/util.py:25: CryptographyDeprecationWarning: int_from_bytes is deprecated, use int.from_bytes instead\n  from cryptography.utils import int_from_bytes\nCollecting openpyxl\n  Downloading openpyxl-3.0.7-py2.py3-none-any.whl (243 kB)\n\u001b[K     |\u2588\u2588\u2588\u2588\u2588\u2588\u2588\u2588\u2588\u2588\u2588\u2588\u2588\u2588\u2588\u2588\u2588\u2588\u2588\u2588\u2588\u2588\u2588\u2588\u2588\u2588\u2588\u2588\u2588\u2588\u2588\u2588| 243 kB 13.3 MB/s eta 0:00:01\n\u001b[?25hCollecting et-xmlfile\n  Downloading et_xmlfile-1.1.0-py3-none-any.whl (4.7 kB)\nInstalling collected packages: et-xmlfile, openpyxl\nSuccessfully installed et-xmlfile-1.1.0 openpyxl-3.0.7\n",
                    "name": "stdout"
                }
            ]
        },
        {
            "metadata": {},
            "cell_type": "code",
            "source": "# your code goes here\nfrom openpyxl import Workbook",
            "execution_count": 22,
            "outputs": []
        },
        {
            "metadata": {},
            "cell_type": "markdown",
            "source": "Create a workbook and select the active worksheet\n"
        },
        {
            "metadata": {},
            "cell_type": "code",
            "source": "# your code goes here\nwb=Workbook()                        # create a workbook object\nws=wb.active                         # use the active worksheet",
            "execution_count": 23,
            "outputs": []
        },
        {
            "metadata": {},
            "cell_type": "markdown",
            "source": "Find the number of jobs postings for each of the technology in the above list.\nWrite the technology name and the number of jobs postings into the excel spreadsheet.\n"
        },
        {
            "metadata": {},
            "cell_type": "code",
            "source": "for tech in tech_list:\n    print(get_number_of_jobs(tech))\n    ws.append(get_number_of_jobs(tech))",
            "execution_count": 24,
            "outputs": [
                {
                    "output_type": "stream",
                    "text": "0 SweetRush\n1 MANDARIN MEDIEN Gesellschaft f\u00fcr digitale L\u00f6sungen mbH\n2 MANDARIN MEDIEN Gesellschaft f\u00fcr digitale L\u00f6sungen mbH\n3 MANDARIN MEDIEN Gesellschaft f\u00fcr digitale L\u00f6sungen mbH\n4 Car Registration, Inc. \n5 DEVK Versicherungen\n6 DEVK Versicherungen\n7 JobRad GmbH\n8 Blindside\n9 DEVK Versicherungen\n10 Mimi Hearing Technologies GmbH\n11 OSI International Holding GmbH\n12 Amco International Education Services\n13 Crawford, Murphy and Tilly, Inc.\n14 Demyst \n15 Bertrandt Technikum GmbH Ehningen\n16 Bertrandt Technikum GmbH Ehningen\n17 Bertrandt Technikum GmbH Ehningen \n18 W Energy Software\n19 expertlead\n20 Reaktor\n21 Buxton\n22 Remote\n23 Remote\n24 Kolter Solutions\n25 My Cosmetic Surgery\n26 Encoding Management Service - EMS GmbH\n27 uptodate Ventures\n28 turingpoint GmbH\n29 secova GmbH & Co. KG\n30 anynines GmbH\n('C', 31)\n0 SweetRush\n1 MANDARIN MEDIEN Gesellschaft f\u00fcr digitale L\u00f6sungen mbH\n2 MANDARIN MEDIEN Gesellschaft f\u00fcr digitale L\u00f6sungen mbH\n3 MANDARIN MEDIEN Gesellschaft f\u00fcr digitale L\u00f6sungen mbH\n4 Car Registration, Inc. \n5 DEVK Versicherungen\n6 DEVK Versicherungen\n7 JobRad GmbH\n8 Blindside\n9 DEVK Versicherungen\n10 Mimi Hearing Technologies GmbH\n11 OSI International Holding GmbH\n12 Amco International Education Services\n13 Crawford, Murphy and Tilly, Inc.\n14 Demyst \n15 Bertrandt Technikum GmbH Ehningen\n16 Bertrandt Technikum GmbH Ehningen\n17 Bertrandt Technikum GmbH Ehningen \n18 W Energy Software\n19 expertlead\n20 Reaktor\n21 Buxton\n22 Remote\n23 Remote\n24 Kolter Solutions\n25 My Cosmetic Surgery\n26 Encoding Management Service - EMS GmbH\n27 uptodate Ventures\n28 turingpoint GmbH\n29 secova GmbH & Co. KG\n30 anynines GmbH\n15 Bertrandt Technikum GmbH Ehningen\n17 Bertrandt Technikum GmbH Ehningen \n24 Kolter Solutions\n25 My Cosmetic Surgery\n('C#', 4)\n15 Bertrandt Technikum GmbH Ehningen\n17 Bertrandt Technikum GmbH Ehningen \n24 Kolter Solutions\n25 My Cosmetic Surgery\n15 Bertrandt Technikum GmbH Ehningen\n16 Bertrandt Technikum GmbH Ehningen\n17 Bertrandt Technikum GmbH Ehningen \n18 W Energy Software\n25 My Cosmetic Surgery\n('C++', 5)\n15 Bertrandt Technikum GmbH Ehningen\n16 Bertrandt Technikum GmbH Ehningen\n17 Bertrandt Technikum GmbH Ehningen \n18 W Energy Software\n25 My Cosmetic Surgery\n0 SweetRush\n3 MANDARIN MEDIEN Gesellschaft f\u00fcr digitale L\u00f6sungen mbH\n4 Car Registration, Inc. \n7 JobRad GmbH\n9 DEVK Versicherungen\n12 Amco International Education Services\n13 Crawford, Murphy and Tilly, Inc.\n18 W Energy Software\n21 Buxton\n22 Remote\n24 Kolter Solutions\n25 My Cosmetic Surgery\n26 Encoding Management Service - EMS GmbH\n30 anynines GmbH\n('Java', 14)\n0 SweetRush\n3 MANDARIN MEDIEN Gesellschaft f\u00fcr digitale L\u00f6sungen mbH\n4 Car Registration, Inc. \n7 JobRad GmbH\n9 DEVK Versicherungen\n12 Amco International Education Services\n13 Crawford, Murphy and Tilly, Inc.\n18 W Energy Software\n21 Buxton\n22 Remote\n24 Kolter Solutions\n25 My Cosmetic Surgery\n26 Encoding Management Service - EMS GmbH\n30 anynines GmbH\n0 SweetRush\n3 MANDARIN MEDIEN Gesellschaft f\u00fcr digitale L\u00f6sungen mbH\n4 Car Registration, Inc. \n7 JobRad GmbH\n12 Amco International Education Services\n13 Crawford, Murphy and Tilly, Inc.\n18 W Energy Software\n21 Buxton\n22 Remote\n24 Kolter Solutions\n25 My Cosmetic Surgery\n26 Encoding Management Service - EMS GmbH\n30 anynines GmbH\n('JavaScript', 13)\n0 SweetRush\n3 MANDARIN MEDIEN Gesellschaft f\u00fcr digitale L\u00f6sungen mbH\n4 Car Registration, Inc. \n7 JobRad GmbH\n12 Amco International Education Services\n13 Crawford, Murphy and Tilly, Inc.\n18 W Energy Software\n21 Buxton\n22 Remote\n24 Kolter Solutions\n25 My Cosmetic Surgery\n26 Encoding Management Service - EMS GmbH\n30 anynines GmbH\n4 Car Registration, Inc. \n8 Blindside\n14 Demyst \n15 Bertrandt Technikum GmbH Ehningen\n17 Bertrandt Technikum GmbH Ehningen \n19 expertlead\n('Python', 6)\n4 Car Registration, Inc. \n8 Blindside\n14 Demyst \n15 Bertrandt Technikum GmbH Ehningen\n17 Bertrandt Technikum GmbH Ehningen \n19 expertlead\n12 Amco International Education Services\n21 Buxton\n30 anynines GmbH\n('Scala', 3)\n12 Amco International Education Services\n21 Buxton\n30 anynines GmbH\n4 Car Registration, Inc. \n18 W Energy Software\n('Oracle', 2)\n4 Car Registration, Inc. \n18 W Energy Software\n21 Buxton\n24 Kolter Solutions\n25 My Cosmetic Surgery\n('SQL Server', 3)\n21 Buxton\n24 Kolter Solutions\n25 My Cosmetic Surgery\n('MySQL Server', 0)\n4 Car Registration, Inc. \n19 expertlead\n30 anynines GmbH\n('PostgreSQL', 3)\n4 Car Registration, Inc. \n19 expertlead\n30 anynines GmbH\n('MongoDB', 0)\n",
                    "name": "stdout"
                }
            ]
        },
        {
            "metadata": {},
            "cell_type": "code",
            "source": "get_number_of_jobs('PHP')",
            "execution_count": 27,
            "outputs": [
                {
                    "output_type": "stream",
                    "text": "3 MANDARIN MEDIEN Gesellschaft f\u00fcr digitale L\u00f6sungen mbH\n4 Car Registration, Inc. \n26 Encoding Management Service - EMS GmbH\n29 secova GmbH & Co. KG\n",
                    "name": "stdout"
                },
                {
                    "output_type": "execute_result",
                    "execution_count": 27,
                    "data": {
                        "text/plain": "('PHP', 4)"
                    },
                    "metadata": {}
                }
            ]
        },
        {
            "metadata": {},
            "cell_type": "markdown",
            "source": "Save into an excel spreadsheet named 'github-job-postings.xlsx'.\n"
        },
        {
            "metadata": {},
            "cell_type": "code",
            "source": "#your code goes here\nwb.save(\"github-job-postings.xlsx\")  # save the workbook into a file called github-job-postings.xlsx",
            "execution_count": 28,
            "outputs": []
        },
        {
            "metadata": {},
            "cell_type": "code",
            "source": "import pandas as pd",
            "execution_count": 29,
            "outputs": []
        },
        {
            "metadata": {},
            "cell_type": "code",
            "source": "df_tech = pd.read_excel('github-job-postings.xlsx')\ndf_tech.columns = ['language', 'listings']\ndf_tech.head()\n# df_tech.tail()\n# df_tech",
            "execution_count": 31,
            "outputs": [
                {
                    "output_type": "execute_result",
                    "execution_count": 31,
                    "data": {
                        "text/plain": "     language  listings\n0          C#         4\n1         C++         5\n2        Java        14\n3  JavaScript        13\n4      Python         6",
                        "text/html": "<div>\n<style scoped>\n    .dataframe tbody tr th:only-of-type {\n        vertical-align: middle;\n    }\n\n    .dataframe tbody tr th {\n        vertical-align: top;\n    }\n\n    .dataframe thead th {\n        text-align: right;\n    }\n</style>\n<table border=\"1\" class=\"dataframe\">\n  <thead>\n    <tr style=\"text-align: right;\">\n      <th></th>\n      <th>language</th>\n      <th>listings</th>\n    </tr>\n  </thead>\n  <tbody>\n    <tr>\n      <th>0</th>\n      <td>C#</td>\n      <td>4</td>\n    </tr>\n    <tr>\n      <th>1</th>\n      <td>C++</td>\n      <td>5</td>\n    </tr>\n    <tr>\n      <th>2</th>\n      <td>Java</td>\n      <td>14</td>\n    </tr>\n    <tr>\n      <th>3</th>\n      <td>JavaScript</td>\n      <td>13</td>\n    </tr>\n    <tr>\n      <th>4</th>\n      <td>Python</td>\n      <td>6</td>\n    </tr>\n  </tbody>\n</table>\n</div>"
                    },
                    "metadata": {}
                }
            ]
        },
        {
            "metadata": {},
            "cell_type": "markdown",
            "source": "## Authors\n"
        },
        {
            "metadata": {},
            "cell_type": "markdown",
            "source": "Ramesh Sannareddy\n"
        },
        {
            "metadata": {},
            "cell_type": "markdown",
            "source": "### Other Contributors\n"
        },
        {
            "metadata": {},
            "cell_type": "markdown",
            "source": "Rav Ahuja\n"
        },
        {
            "metadata": {},
            "cell_type": "markdown",
            "source": "## Change Log\n"
        },
        {
            "metadata": {},
            "cell_type": "markdown",
            "source": "| Date (YYYY-MM-DD) | Version | Changed By        | Change Description                 |\n| ----------------- | ------- | ----------------- | ---------------------------------- |\n| 2020-10-17        | 0.1     | Ramesh Sannareddy | Created initial version of the lab |\n"
        },
        {
            "metadata": {},
            "cell_type": "markdown",
            "source": " Copyright \u00a9 2020 IBM Corporation. This notebook and its source code are released under the terms of the [MIT License](https://cognitiveclass.ai/mit-license?cm_mmc=Email_Newsletter-_-Developer_Ed%2BTech-_-WW_WW-_-SkillsNetwork-Courses-IBM-DA0321EN-SkillsNetwork-21426264&cm_mmca1=000026UJ&cm_mmca2=10006555&cm_mmca3=M12345678&cvosrc=email.Newsletter.M12345678&cvo_campaign=000026UJ&cm_mmc=Email_Newsletter-_-Developer_Ed%2BTech-_-WW_WW-_-SkillsNetwork-Courses-IBM-DA0321EN-SkillsNetwork-21426264&cm_mmca1=000026UJ&cm_mmca2=10006555&cm_mmca3=M12345678&cvosrc=email.Newsletter.M12345678&cvo_campaign=000026UJ&cm_mmc=Email_Newsletter-_-Developer_Ed%2BTech-_-WW_WW-_-SkillsNetwork-Courses-IBM-DA0321EN-SkillsNetwork-21426264&cm_mmca1=000026UJ&cm_mmca2=10006555&cm_mmca3=M12345678&cvosrc=email.Newsletter.M12345678&cvo_campaign=000026UJ&cm_mmc=Email_Newsletter-_-Developer_Ed%2BTech-_-WW_WW-_-SkillsNetwork-Courses-IBM-DA0321EN-SkillsNetwork-21426264&cm_mmca1=000026UJ&cm_mmca2=10006555&cm_mmca3=M12345678&cvosrc=email.Newsletter.M12345678&cvo_campaign=000026UJ&cm_mmc=Email_Newsletter-_-Developer_Ed%2BTech-_-WW_WW-_-SkillsNetwork-Courses-IBM-DA0321EN-SkillsNetwork-21426264&cm_mmca1=000026UJ&cm_mmca2=10006555&cm_mmca3=M12345678&cvosrc=email.Newsletter.M12345678&cvo_campaign=000026UJ&cm_mmc=Email_Newsletter-_-Developer_Ed%2BTech-_-WW_WW-_-SkillsNetwork-Courses-IBM-DA0321EN-SkillsNetwork-21426264&cm_mmca1=000026UJ&cm_mmca2=10006555&cm_mmca3=M12345678&cvosrc=email.Newsletter.M12345678&cvo_campaign=000026UJ).\n"
        }
    ],
    "metadata": {
        "kernelspec": {
            "name": "python3",
            "display_name": "Python 3.7",
            "language": "python"
        },
        "language_info": {
            "name": "python",
            "version": "3.7.10",
            "mimetype": "text/x-python",
            "codemirror_mode": {
                "name": "ipython",
                "version": 3
            },
            "pygments_lexer": "ipython3",
            "nbconvert_exporter": "python",
            "file_extension": ".py"
        },
        "metadata": {
            "interpreter": {
                "hash": "bc1a2c852b9c3c3451b0e924dbe499432fcc689d8e378577c52e36c4a22dabdb"
            }
        }
    },
    "nbformat": 4,
    "nbformat_minor": 4
}